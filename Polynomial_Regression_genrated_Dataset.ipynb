{
  "nbformat": 4,
  "nbformat_minor": 0,
  "metadata": {
    "colab": {
      "provenance": [],
      "include_colab_link": true
    },
    "kernelspec": {
      "name": "python3",
      "display_name": "Python 3"
    },
    "accelerator": "GPU"
  },
  "cells": [
    {
      "cell_type": "markdown",
      "metadata": {
        "id": "view-in-github",
        "colab_type": "text"
      },
      "source": [
        "<a href=\"https://colab.research.google.com/github/hamzaaslam276/Polynomial-Regression-genrated-Dataset/blob/main/Polynomial_Regression_genrated_Dataset.ipynb\" target=\"_parent\"><img src=\"https://colab.research.google.com/assets/colab-badge.svg\" alt=\"Open In Colab\"/></a>"
      ]
    },
    {
      "cell_type": "markdown",
      "metadata": {
        "id": "c1PsLspKAfyF"
      },
      "source": [
        "### Importing libraries"
      ]
    },
    {
      "cell_type": "code",
      "metadata": {
        "id": "x-4tjhTVBHkj"
      },
      "source": [
        "import numpy as np\n",
        "import matplotlib.pyplot as plt\n",
        "import pandas as pd\n",
        "import random\n",
        "import operator\n",
        "\n",
        "from sklearn.linear_model import LinearRegression\n",
        "from sklearn.metrics import mean_squared_error, r2_score\n",
        "from sklearn.preprocessing import PolynomialFeatures\n"
      ],
      "execution_count": 1,
      "outputs": []
    },
    {
      "cell_type": "markdown",
      "metadata": {
        "id": "NK0tcuyVBEfB"
      },
      "source": [
        "### Creating te dataset"
      ]
    },
    {
      "cell_type": "code",
      "metadata": {
        "id": "DMkvNdoFBgrK",
        "colab": {
          "base_uri": "https://localhost:8080/"
        },
        "outputId": "ec7959d3-5f79-430b-a95c-12bc20746adf"
      },
      "source": [
        "np.random.seed(0)\n",
        "x = np.random.normal(0, 1, 20)\n",
        "y = np.random.normal(0, 1, 20)\n",
        "print(f\"x: {x}\")\n",
        "print(f\"y: {y}\")"
      ],
      "execution_count": 2,
      "outputs": [
        {
          "output_type": "stream",
          "name": "stdout",
          "text": [
            "x: [ 1.76405235  0.40015721  0.97873798  2.2408932   1.86755799 -0.97727788\n",
            "  0.95008842 -0.15135721 -0.10321885  0.4105985   0.14404357  1.45427351\n",
            "  0.76103773  0.12167502  0.44386323  0.33367433  1.49407907 -0.20515826\n",
            "  0.3130677  -0.85409574]\n",
            "y: [-2.55298982  0.6536186   0.8644362  -0.74216502  2.26975462 -1.45436567\n",
            "  0.04575852 -0.18718385  1.53277921  1.46935877  0.15494743  0.37816252\n",
            " -0.88778575 -1.98079647 -0.34791215  0.15634897  1.23029068  1.20237985\n",
            " -0.38732682 -0.30230275]\n"
          ]
        }
      ]
    },
    {
      "cell_type": "markdown",
      "metadata": {
        "id": "aJOfOP5ZB5Ba"
      },
      "source": [
        "### Plotting the dataset\n"
      ]
    },
    {
      "cell_type": "code",
      "metadata": {
        "id": "PRqeNyB8B0oa",
        "outputId": "2fff29f9-381f-4ac5-a0fc-60321d19d6ea",
        "colab": {
          "base_uri": "https://localhost:8080/",
          "height": 430
        }
      },
      "source": [
        "plt.scatter(x,y)\n",
        "plt.show()"
      ],
      "execution_count": 4,
      "outputs": [
        {
          "output_type": "display_data",
          "data": {
            "text/plain": [
              "<Figure size 640x480 with 1 Axes>"
            ],
            "image/png": "[encoded data removed]"
          },
          "metadata": {}
        }
      ]
    },
    {
      "cell_type": "code",
      "metadata": {
        "id": "eTXHaxSvBkPy"
      },
      "source": [
        "#Converting data from 1D array to 2D array\n",
        "x = x[:, np.newaxis]\n",
        "y = y[:, np.newaxis]"
      ],
      "execution_count": 6,
      "outputs": []
    },
    {
      "cell_type": "markdown",
      "metadata": {
        "id": "NzFLEFMc_pX4"
      },
      "source": [
        "### Doing Linear Regression\n"
      ]
    },
    {
      "cell_type": "code",
      "metadata": {
        "id": "6Tk4VaVh_owh",
        "colab": {
          "base_uri": "https://localhost:8080/",
          "height": 430
        },
        "outputId": "af06a0eb-e154-4a92-af6b-261a4ae0e442"
      },
      "source": [
        "model_lin = LinearRegression()\n",
        "model_lin.fit(x, y)\n",
        "y_pred = model_lin.predict(x)\n",
        "\n",
        "plt.scatter(x, y)\n",
        "plt.plot(x, y_pred, color='r')\n",
        "plt.show()"
      ],
      "execution_count": 7,
      "outputs": [
        {
          "output_type": "display_data",
          "data": {
            "text/plain": [
              "<Figure size 640x480 with 1 Axes>"
            ],
            "image/png": "[encoded data removed]"
          },
          "metadata": {}
        }
      ]
    },
    {
      "cell_type": "code",
      "metadata": {
        "id": "inoSrZLoXNzC",
        "colab": {
          "base_uri": "https://localhost:8080/"
        },
        "outputId": "83ce7fe6-7ad4-4026-9d24-a2dd5279a8bf"
      },
      "source": [
        "mse = np.sqrt(mean_squared_error(y,y_pred))\n",
        "r2 = r2_score(y,y_pred)\n",
        "print(mse)\n",
        "print(r2)"
      ],
      "execution_count": 8,
      "outputs": [
        {
          "output_type": "stream",
          "name": "stdout",
          "text": [
            "1.1832766119182259\n",
            "0.007636444138149345\n"
          ]
        }
      ]
    },
    {
      "cell_type": "markdown",
      "metadata": {
        "id": "9T2lsllNCbcL"
      },
      "source": [
        "### Doing Polynomial Regression\n",
        "\n"
      ]
    },
    {
      "cell_type": "code",
      "metadata": {
        "id": "Fd5Lhd0HGL9B"
      },
      "source": [
        "polynomial_features= PolynomialFeatures(degree=2)\n",
        "x_poly = polynomial_features.fit_transform(x)"
      ],
      "execution_count": 10,
      "outputs": []
    },
    {
      "cell_type": "code",
      "metadata": {
        "id": "eVJXL-xkBpEK"
      },
      "source": [
        "model = LinearRegression()\n",
        "model.fit(x_poly, y)\n",
        "y_poly_pred = model.predict(x_poly)"
      ],
      "execution_count": 11,
      "outputs": []
    },
    {
      "cell_type": "markdown",
      "metadata": {
        "id": "vdNvmflACwfu"
      },
      "source": [
        "### Calculating error\n"
      ]
    },
    {
      "cell_type": "code",
      "metadata": {
        "id": "Z01M5DQTBrCq",
        "outputId": "48967564-52d8-42f4-c4fc-8bc6868a3f82",
        "colab": {
          "base_uri": "https://localhost:8080/"
        }
      },
      "source": [
        "mse = np.sqrt(mean_squared_error(y,y_poly_pred))\n",
        "r2 = r2_score(y,y_poly_pred)\n",
        "print(mse)\n",
        "print(r2)"
      ],
      "execution_count": 12,
      "outputs": [
        {
          "output_type": "stream",
          "name": "stdout",
          "text": [
            "1.1507521092081143\n",
            "0.061440511342737425\n"
          ]
        }
      ]
    },
    {
      "cell_type": "markdown",
      "metadata": {
        "id": "79jpsOwQDbeR"
      },
      "source": [
        "### Visualising results\n"
      ]
    },
    {
      "cell_type": "code",
      "metadata": {
        "id": "HdV8CycZmLAF",
        "outputId": "cde6faf4-36ef-43f9-a22d-b94199d32e36",
        "colab": {
          "base_uri": "https://localhost:8080/"
        }
      },
      "source": [
        "print(\"coefe : \" , model.coef_)\n",
        "print(\"Intercept : \", model.intercept_)"
      ],
      "execution_count": 15,
      "outputs": [
        {
          "output_type": "stream",
          "name": "stdout",
          "text": [
            "coefe :  [[ 0.          0.54780984 -0.32901375]]\n",
            "Intercept :  [0.08832508]\n"
          ]
        }
      ]
    },
    {
      "cell_type": "code",
      "metadata": {
        "outputId": "698dd7d5-a217-46dc-ac92-e77250da6253",
        "id": "EdhQiGRNDeMv",
        "colab": {
          "base_uri": "https://localhost:8080/"
        }
      },
      "source": [
        "res = \"y = f(x) = \" + str(model.intercept_[0])\n",
        "\n",
        "for i,r in enumerate(model.coef_[0]):\n",
        "    res = res + \" + {}*x^{}\".format(\"%.2f\" % r, i)\n",
        "\n",
        "print (res)"
      ],
      "execution_count": 16,
      "outputs": [
        {
          "output_type": "stream",
          "name": "stdout",
          "text": [
            "y = f(x) = 0.08832508210279363 + 0.00*x^0 + 0.55*x^1 + -0.33*x^2\n"
          ]
        }
      ]
    },
    {
      "cell_type": "code",
      "metadata": {
        "id": "-YiLY7Y0Bt31",
        "outputId": "380a6dcb-c6de-4a32-f6d6-e721da713061",
        "colab": {
          "base_uri": "https://localhost:8080/",
          "height": 472
        }
      },
      "source": [
        "# Visualising the Polynomial Regression results\n",
        "plt.scatter(x, y, color = 'blue')\n",
        "\n",
        "plt.scatter(x, model.predict(polynomial_features.fit_transform(x)), color = 'red')\n",
        "plt.title('Polynomial Regression')\n",
        "plt.xlabel('Postiton level')\n",
        "plt.ylabel('Salary')\n",
        "\n",
        "plt.show()"
      ],
      "execution_count": 17,
      "outputs": [
        {
          "output_type": "display_data",
          "data": {
            "text/plain": [
              "<Figure size 640x480 with 1 Axes>"
            ],
            "image/png": "[encoded data removed]"
          },
          "metadata": {}
        }
      ]
    },
    {
      "cell_type": "code",
      "metadata": {
        "id": "4m4EgF249Znh",
        "outputId": "b1b7206f-2c52-470e-f227-8471e7780cf0",
        "colab": {
          "base_uri": "https://localhost:8080/",
          "height": 430
        }
      },
      "source": [
        "plt.scatter(x, y)\n",
        "# sort the values of x before line plot\n",
        "sort_axis = operator.itemgetter(0)\n",
        "sorted_zip = sorted(zip(x,y_poly_pred), key=sort_axis)\n",
        "x, y_poly_pred = zip(*sorted_zip)\n",
        "plt.plot(x, y_poly_pred, color='red')\n",
        "plt.show()"
      ],
      "execution_count": 18,
      "outputs": [
        {
          "output_type": "display_data",
          "data": {
            "text/plain": [
              "<Figure size 640x480 with 1 Axes>"
            ],
            "image/png": "[encoded data removed]"
          },
          "metadata": {}
        }
      ]
    },
    {
      "cell_type": "code",
      "source": [],
      "metadata": {
        "id": "uA8wvXvucYdf"
      },
      "execution_count": null,
      "outputs": []
    }
  ]
}